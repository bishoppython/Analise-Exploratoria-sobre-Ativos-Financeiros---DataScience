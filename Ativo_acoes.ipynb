{
 "cells": [
  {
   "cell_type": "code",
   "execution_count": null,
   "metadata": {},
   "outputs": [],
   "source": [
    "# pip install pywhatkit"
   ]
  },
  {
   "cell_type": "code",
   "execution_count": null,
   "metadata": {},
   "outputs": [],
   "source": [
    "import pandas as pd\n",
    "import yfinance as yf\n",
    "import warnings\n",
    "warnings.filterwarnings('ignore')\n",
    "import pywhatkit as kit\n",
    "import datetime\n",
    "import time\n",
    "import pyautogui\n",
    "\n",
    "# Para não limitar a exibição do DataFrame\n",
    "pd.set_option('display.max_columns', None)\n",
    "pd.set_option('display.max_rows', None)"
   ]
  },
  {
   "cell_type": "code",
   "execution_count": null,
   "metadata": {},
   "outputs": [],
   "source": [
    "def verificando_dividendos(ticker_symbol):\n",
    "    try:\n",
    "        # Criando um objeto Ticker usando o símbolo da ação\n",
    "        ticker = yf.Ticker(ticker_symbol)\n",
    "\n",
    "        # Obtenha os dados de dividendos para os últimos 5 anos\n",
    "        dividends = ticker.dividends\n",
    "        dividends_last_5_years = dividends.last('5Y')\n",
    "\n",
    "        # Selecione apenas os últimos 12 meses se houver dados disponíveis\n",
    "        if not dividends_last_5_years.empty:\n",
    "            dividends_last_year = dividends_last_5_years.last('6M')\n",
    "\n",
    "            # Verifica se existem dados de dividendos\n",
    "            if dividends_last_year.empty:\n",
    "                print(f\"Não foram encontrados dados de dividendos para {ticker_symbol}\")\n",
    "            else:\n",
    "                # Obtém a data, ação e valor do último dividendo\n",
    "                ultima_data = dividends_last_year.idxmax()\n",
    "                ultimo_valor = dividends_last_year.max()\n",
    "                # Obtém o preço atual da ação\n",
    "                preco_atual = ticker.history(period='1d')['Close'][0]\n",
    "\n",
    "                 # Formate as informações para envio por mensage\n",
    "                msg = f\"Ação: {ticker_symbol}\\n Última data de dividendo: {ultima_data}\\n Valor do último dividendo: R$ {'{:.2f}'.format(ultimo_valor)}\\n Preço atual da ação: R$ {'{:.2f}'.format(preco_atual)}\\n\"\n",
    "                print(msg)\n",
    "        \n",
    "        else:\n",
    "            print(f\"Não foram encontrados dados de dividendos nos últimos 5 anos para {ticker_symbol}\")\n",
    "\n",
    "        # Envie as informações para o WhatsApp\n",
    "        enviar_mensagem_whatsapp(msg)\n",
    "        \n",
    "\n",
    "    except KeyError:\n",
    "        print(f\"Ação não encontrada: {ticker_symbol}\")"
   ]
  },
  {
   "cell_type": "code",
   "execution_count": null,
   "metadata": {},
   "outputs": [],
   "source": [
    "def enviar_mensagem_whatsapp(message):\n",
    "    # Número de telefone (com código de país, sem '+' ou '0')\n",
    "    phone_number = \"+5581995241524\"\n",
    "    #id_group = 'LvIfhAf9fZPDXmgP4HKPm6' #Minhas Coisas\n",
    "\n",
    "    # Obtém o horário atual\n",
    "    current_time = datetime.datetime.now()\n",
    "    hours = current_time.hour\n",
    "    minutes = current_time.minute + 1  # Envia a mensagem daqui a 2 minutos\n",
    "\n",
    "    # Envia a mensagem pelo WhatsApp\n",
    "    kit.sendwhatmsg(phone_number, message, hours, minutes)\n",
    "\n",
    "    # Envia a mensagem para o Grupo do Whatsapp\n",
    "    #kit.sendwhatmsg_to_group(id_group, message, hours, minutes)\n",
    "\n",
    "    # Aguarda alguns segundos para garantir que a mensagem seja enviada\n",
    "    time.sleep(10)\n",
    "\n",
    "    # Simula a pressão da tecla \"Enter\"\n",
    "    pyautogui.press('enter')\n",
    "\n",
    "    # aguarde mais uns segundos\n",
    "    time.sleep(4)\n",
    "\n",
    "    # Feche a janela\n",
    "    pyautogui.hotkey('ctrl', 'w')\n"
   ]
  },
  {
   "cell_type": "code",
   "execution_count": null,
   "metadata": {},
   "outputs": [],
   "source": [
    "acoes = pd.read_excel('ATIVOS_ACAO.xlsx', usecols=[0]) \n",
    "\n",
    "# Iteração sobre os ativos e chamada da função\n",
    "for index, row in acoes.iterrows():\n",
    "    ticker_symbol = row[0]\n",
    "    verificando_dividendos(ticker_symbol)"
   ]
  }
 ],
 "metadata": {
  "kernelspec": {
   "display_name": "Python 3",
   "language": "python",
   "name": "python3"
  },
  "language_info": {
   "codemirror_mode": {
    "name": "ipython",
    "version": 3
   },
   "file_extension": ".py",
   "mimetype": "text/x-python",
   "name": "python",
   "nbconvert_exporter": "python",
   "pygments_lexer": "ipython3",
   "version": "3.11.5"
  }
 },
 "nbformat": 4,
 "nbformat_minor": 2
}
